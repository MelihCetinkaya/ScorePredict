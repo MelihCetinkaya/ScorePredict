{
 "cells": [
  {
   "cell_type": "markdown",
   "id": "fcbbb2c5",
   "metadata": {},
   "source": [
    "## Verilerin istatistiksel olarak ayarlanması"
   ]
  },
  {
   "cell_type": "markdown",
   "id": "69f72d75",
   "metadata": {},
   "source": []
  },
  {
   "cell_type": "code",
   "execution_count": 2,
   "id": "f767ee2f",
   "metadata": {},
   "outputs": [],
   "source": [
    "import numpy as np\n",
    "import pandas as pd \n",
    "import matplotlib.pyplot as plt \n"
   ]
  },
  {
   "cell_type": "code",
   "execution_count": 4,
   "id": "5d720da0",
   "metadata": {},
   "outputs": [],
   "source": [
    "df=pd.read_csv('data.csv')"
   ]
  },
  {
   "cell_type": "code",
   "execution_count": 5,
   "id": "0385c5ae",
   "metadata": {},
   "outputs": [
    {
     "name": "stdout",
     "output_type": "stream",
     "text": [
      "<class 'pandas.core.frame.DataFrame'>\n",
      "RangeIndex: 2530 entries, 0 to 2529\n",
      "Data columns (total 7 columns):\n",
      " #   Column                      Non-Null Count  Dtype \n",
      "---  ------                      --------------  ----- \n",
      " 0   summary-marketing-airlines  2530 non-null   object\n",
      " 1   itemAirport                 2530 non-null   object\n",
      " 2   itemAirport 2               2530 non-null   object\n",
      " 3   summary-luggage-unit        2530 non-null   object\n",
      " 4   summary-transit             2530 non-null   object\n",
      " 5   money-int                   2530 non-null   int64 \n",
      " 6   zaman                       2530 non-null   int64 \n",
      "dtypes: int64(2), object(5)\n",
      "memory usage: 138.5+ KB\n",
      "None\n"
     ]
    }
   ],
   "source": [
    "print(df.info())"
   ]
  },
  {
   "cell_type": "code",
   "execution_count": 7,
   "id": "5c75f81e",
   "metadata": {},
   "outputs": [],
   "source": [
    "df['marketing-airlines'] = df['summary-marketing-airlines'].astype('category')\n",
    "df['departure airport'] = df ['itemAirport'].astype('category')\n",
    "df['arrival airport'] = df ['itemAirport 2'].astype('category')\n",
    "df['luggage-unit '] = df['summary-luggage-unit'].astype('category')\n",
    "df['flight type'] = df['summary-transit'].astype('category')\n",
    "df['price'] = df['money-int'].astype('int')\n",
    "df['time'] = df['zaman'].astype('int')"
   ]
  },
  {
   "cell_type": "code",
   "execution_count": 8,
   "id": "5684aee3",
   "metadata": {},
   "outputs": [
    {
     "name": "stdout",
     "output_type": "stream",
     "text": [
      "<class 'pandas.core.frame.DataFrame'>\n",
      "RangeIndex: 2530 entries, 0 to 2529\n",
      "Data columns (total 14 columns):\n",
      " #   Column                      Non-Null Count  Dtype   \n",
      "---  ------                      --------------  -----   \n",
      " 0   summary-marketing-airlines  2530 non-null   object  \n",
      " 1   itemAirport                 2530 non-null   object  \n",
      " 2   itemAirport 2               2530 non-null   object  \n",
      " 3   summary-luggage-unit        2530 non-null   object  \n",
      " 4   summary-transit             2530 non-null   object  \n",
      " 5   money-int                   2530 non-null   int64   \n",
      " 6   zaman                       2530 non-null   int64   \n",
      " 7   marketing-airlines          2530 non-null   category\n",
      " 8   departure airport           2530 non-null   category\n",
      " 9   arrival airport             2530 non-null   category\n",
      " 10  luggage-unit                2530 non-null   category\n",
      " 11  flight type                 2530 non-null   category\n",
      " 12  price                       2530 non-null   int64   \n",
      " 13  time                        2530 non-null   int64   \n",
      "dtypes: category(5), int64(4), object(5)\n",
      "memory usage: 193.6+ KB\n",
      "None\n"
     ]
    }
   ],
   "source": [
    "print(df.info())"
   ]
  },
  {
   "cell_type": "code",
   "execution_count": 9,
   "id": "cd4adddc",
   "metadata": {},
   "outputs": [],
   "source": [
    "df.drop(['summary-marketing-airlines','itemAirport','itemAirport 2','summary-luggage-unit',\n",
    "    'money-int' ,'zaman','summary-transit'],axis=1,inplace=True)"
   ]
  },
  {
   "cell_type": "code",
   "execution_count": 10,
   "id": "12957755",
   "metadata": {},
   "outputs": [
    {
     "name": "stdout",
     "output_type": "stream",
     "text": [
      "<class 'pandas.core.frame.DataFrame'>\n",
      "RangeIndex: 2530 entries, 0 to 2529\n",
      "Data columns (total 7 columns):\n",
      " #   Column              Non-Null Count  Dtype   \n",
      "---  ------              --------------  -----   \n",
      " 0   marketing-airlines  2530 non-null   category\n",
      " 1   departure airport   2530 non-null   category\n",
      " 2   arrival airport     2530 non-null   category\n",
      " 3   luggage-unit        2530 non-null   category\n",
      " 4   flight type         2530 non-null   category\n",
      " 5   price               2530 non-null   int64   \n",
      " 6   time                2530 non-null   int64   \n",
      "dtypes: category(5), int64(2)\n",
      "memory usage: 55.2 KB\n",
      "None\n"
     ]
    }
   ],
   "source": [
    "print(df.info())"
   ]
  },
  {
   "cell_type": "markdown",
   "id": "daad335d",
   "metadata": {},
   "source": [
    "# nümerik hesaplama"
   ]
  },
  {
   "cell_type": "code",
   "execution_count": 11,
   "id": "901b77c4",
   "metadata": {},
   "outputs": [
    {
     "name": "stdout",
     "output_type": "stream",
     "text": [
      "Column : price, min: -5071.5, max: 28332.5\n",
      "Column : time, min: -502.5, max: 1077.5\n"
     ]
    }
   ],
   "source": [
    "columns = df.select_dtypes(include=[np.number]).columns\n",
    "min_values = []\n",
    "max_values = []\n",
    "for column in columns :\n",
    "    Q1 = df[column].quantile(0.25)\n",
    "    Q3 = df[column].quantile(0.75)\n",
    "    IQR = Q3-Q1 \n",
    "    min_value = Q1 - 1.5*IQR\n",
    "    max_value = Q3 + 1.5*IQR\n",
    "    min_values.append(min_value)\n",
    "    max_values.append(max_value)\n",
    "    print(f\"Column : {column}, min: {min_value}, max: {max_value}\")\n",
    "    "
   ]
  },
  {
   "cell_type": "markdown",
   "id": "5fd970ce",
   "metadata": {},
   "source": [
    "#aykırı değer temizlenmesi"
   ]
  },
  {
   "cell_type": "code",
   "execution_count": 13,
   "id": "f77dd332",
   "metadata": {},
   "outputs": [],
   "source": [
    "for i,column in enumerate(columns) : \n",
    "    df = df[(df[column] >= min_values[i]) & (df[column] <= max_values[i])]"
   ]
  },
  {
   "cell_type": "code",
   "execution_count": 14,
   "id": "2555d2b0",
   "metadata": {},
   "outputs": [
    {
     "name": "stdout",
     "output_type": "stream",
     "text": [
      "<class 'pandas.core.frame.DataFrame'>\n",
      "Index: 2233 entries, 0 to 2521\n",
      "Data columns (total 7 columns):\n",
      " #   Column              Non-Null Count  Dtype   \n",
      "---  ------              --------------  -----   \n",
      " 0   marketing-airlines  2233 non-null   category\n",
      " 1   departure airport   2233 non-null   category\n",
      " 2   arrival airport     2233 non-null   category\n",
      " 3   luggage-unit        2233 non-null   category\n",
      " 4   flight type         2233 non-null   category\n",
      " 5   price               2233 non-null   int64   \n",
      " 6   time                2233 non-null   int64   \n",
      "dtypes: category(5), int64(2)\n",
      "memory usage: 66.5 KB\n",
      "None\n"
     ]
    }
   ],
   "source": [
    "print(df.info())"
   ]
  },
  {
   "cell_type": "code",
   "execution_count": 16,
   "id": "f084db57",
   "metadata": {},
   "outputs": [
    {
     "name": "stdout",
     "output_type": "stream",
     "text": [
      "              price         time\n",
      "count   2233.000000  2233.000000\n",
      "mean   11209.830273   295.685177\n",
      "std     6266.286433   243.337417\n",
      "min       71.000000    70.000000\n",
      "25%     6948.000000    90.000000\n",
      "50%    11676.000000   151.000000\n",
      "75%    13882.000000   430.000000\n",
      "max    28241.000000  1070.000000\n"
     ]
    }
   ],
   "source": [
    "print(df.describe())"
   ]
  },
  {
   "cell_type": "code",
   "execution_count": 17,
   "id": "f2b6888a",
   "metadata": {},
   "outputs": [],
   "source": [
    "df = df[df['price'] >= 1000]"
   ]
  },
  {
   "cell_type": "code",
   "execution_count": 18,
   "id": "b688c239",
   "metadata": {},
   "outputs": [
    {
     "name": "stdout",
     "output_type": "stream",
     "text": [
      "<class 'pandas.core.frame.DataFrame'>\n",
      "Index: 2141 entries, 0 to 2521\n",
      "Data columns (total 7 columns):\n",
      " #   Column              Non-Null Count  Dtype   \n",
      "---  ------              --------------  -----   \n",
      " 0   marketing-airlines  2141 non-null   category\n",
      " 1   departure airport   2141 non-null   category\n",
      " 2   arrival airport     2141 non-null   category\n",
      " 3   luggage-unit        2141 non-null   category\n",
      " 4   flight type         2141 non-null   category\n",
      " 5   price               2141 non-null   int64   \n",
      " 6   time                2141 non-null   int64   \n",
      "dtypes: category(5), int64(2)\n",
      "memory usage: 63.9 KB\n",
      "None\n"
     ]
    }
   ],
   "source": [
    "print(df.info())"
   ]
  },
  {
   "cell_type": "code",
   "execution_count": 19,
   "id": "cde741e8",
   "metadata": {},
   "outputs": [
    {
     "name": "stdout",
     "output_type": "stream",
     "text": [
      "              price         time\n",
      "count   2141.000000  2141.000000\n",
      "mean   11660.794021   295.154134\n",
      "std     6001.096677   241.545146\n",
      "min     1017.000000    70.000000\n",
      "25%     7572.000000    95.000000\n",
      "50%    11821.000000   151.000000\n",
      "75%    13971.000000   425.000000\n",
      "max    28241.000000  1070.000000\n"
     ]
    }
   ],
   "source": [
    "print(df.describe())"
   ]
  },
  {
   "cell_type": "code",
   "execution_count": 20,
   "id": "6b118fde",
   "metadata": {},
   "outputs": [],
   "source": [
    "df.to_csv('data_cleaned.csv', index = False)"
   ]
  }
 ],
 "metadata": {
  "kernelspec": {
   "display_name": "Python 3",
   "language": "python",
   "name": "python3"
  },
  "language_info": {
   "codemirror_mode": {
    "name": "ipython",
    "version": 3
   },
   "file_extension": ".py",
   "mimetype": "text/x-python",
   "name": "python",
   "nbconvert_exporter": "python",
   "pygments_lexer": "ipython3",
   "version": "3.12.6"
  }
 },
 "nbformat": 4,
 "nbformat_minor": 5
}
