{
 "cells": [
  {
   "cell_type": "markdown",
   "id": "05161ad2",
   "metadata": {},
   "source": [
    "# Paris Londra Uçak Bileti Fiyatları\n"
   ]
  },
  {
   "cell_type": "code",
   "execution_count": 3,
   "id": "c3f5d1e2",
   "metadata": {},
   "outputs": [],
   "source": [
    "import os\n",
    "import numpy as np\n",
    "import pandas as pd \n"
   ]
  },
  {
   "cell_type": "code",
   "execution_count": null,
   "id": "d113d181",
   "metadata": {},
   "outputs": [],
   "source": [
    "df=pd.read_csv('ticket/enuygun (1).csv')\n"
   ]
  },
  {
   "cell_type": "code",
   "execution_count": null,
   "id": "4ba2972d",
   "metadata": {},
   "outputs": [],
   "source": [
    "df.info()"
   ]
  },
  {
   "cell_type": "code",
   "execution_count": 12,
   "id": "079dc9d1",
   "metadata": {},
   "outputs": [],
   "source": [
    "files = os.listdir('ticket')\n",
    "df = pd.concat ([pd.read_csv(f\"ticket/{file}\")for file in files],ignore_index=True)"
   ]
  },
  {
   "cell_type": "code",
   "execution_count": 48,
   "id": "d28ea997",
   "metadata": {},
   "outputs": [
    {
     "name": "stdout",
     "output_type": "stream",
     "text": [
      "<class 'pandas.core.frame.DataFrame'>\n",
      "RangeIndex: 2530 entries, 0 to 2529\n",
      "Data columns (total 8 columns):\n",
      " #   Column                      Non-Null Count  Dtype \n",
      "---  ------                      --------------  ----- \n",
      " 0   summary-marketing-airlines  2530 non-null   object\n",
      " 1   itemAirport                 2530 non-null   object\n",
      " 2   itemAirport 2               2530 non-null   object\n",
      " 3   summary-luggage-unit        2530 non-null   object\n",
      " 4   summary-transit             2530 non-null   object\n",
      " 5   summary-duration            2530 non-null   object\n",
      " 6   money-int                   2530 non-null   int64 \n",
      " 7   zaman                       2530 non-null   int64 \n",
      "dtypes: int64(2), object(6)\n",
      "memory usage: 158.3+ KB\n",
      "None\n"
     ]
    }
   ],
   "source": [
    "print(df.info())"
   ]
  },
  {
   "cell_type": "code",
   "execution_count": 18,
   "id": "da397074",
   "metadata": {},
   "outputs": [],
   "source": [
    "df.drop([\n",
    "     'itemAirport 3'],axis=1,inplace=True)"
   ]
  },
  {
   "cell_type": "code",
   "execution_count": null,
   "id": "8f953251",
   "metadata": {},
   "outputs": [],
   "source": [
    "print(df.info())"
   ]
  },
  {
   "cell_type": "code",
   "execution_count": 47,
   "id": "62a7d030",
   "metadata": {},
   "outputs": [
    {
     "name": "stdout",
     "output_type": "stream",
     "text": [
      "Index(['summary-marketing-airlines', 'itemAirport', 'itemAirport 2',\n",
      "       'summary-luggage-unit', 'summary-transit', 'summary-duration',\n",
      "       'money-int', 'zaman'],\n",
      "      dtype='object')\n"
     ]
    }
   ],
   "source": [
    "print(df.columns)"
   ]
  },
  {
   "cell_type": "code",
   "execution_count": 49,
   "id": "3469216d",
   "metadata": {},
   "outputs": [
    {
     "name": "stdout",
     "output_type": "stream",
     "text": [
      "[  85   75   80   95  600  645  775  860  930  138  140  141  142  143\n",
      "  146  149  151  325  345 1420  350  420 1070  630  260  320  335  375\n",
      " 1340  270  380  425  545  555  605  615  665 1395  410  535  590  715\n",
      "  785 1255 1435  265  435  485  495 1295 1375 1190 1165 1365 1390  755\n",
      "  250  400  680  295 1000  620  310  700  625  365  220  275  300  395\n",
      "   90  635  935  855  340  465  530 1300  152  610  405  330  500  145\n",
      "  147  285 1270  445  800  805  705  205 1405  415  795  580  710  565\n",
      "  315  430  515  820  144  940  255 1305 1205  650  450  290  470  560\n",
      " 1040  385 1090  525  150  825  240  195  360  510   70  154  965  690\n",
      "  850  660 1125  305  790  440  745  655  675  900 1445  460  390  245\n",
      "  505  780  475  640  720  695  875  830 1440 1215 1415 1470  685  865\n",
      "  740  925  139  670  915  980  770 1345 1465  985 1225 1285  750 1210\n",
      "  480  760 1105  735  570  370  355 1455  840  885 1060 1185  910  970]\n"
     ]
    }
   ],
   "source": [
    "print(df['zaman'].unique())"
   ]
  },
  {
   "cell_type": "code",
   "execution_count": 32,
   "id": "515cc909",
   "metadata": {},
   "outputs": [],
   "source": [
    "df['money-int'] = df['money-int'].apply(lambda x: int(str(x).replace('.', '')))\n"
   ]
  },
  {
   "cell_type": "code",
   "execution_count": 34,
   "id": "a6d783b3",
   "metadata": {},
   "outputs": [
    {
     "name": "stdout",
     "output_type": "stream",
     "text": [
      "<bound method Series.unique of 0        4801\n",
      "1        5286\n",
      "2        5286\n",
      "3        5945\n",
      "4        6052\n",
      "        ...  \n",
      "2525    34979\n",
      "2526    34979\n",
      "2527    34979\n",
      "2528    34979\n",
      "2529    51892\n",
      "Name: money-int, Length: 2530, dtype: int64>\n"
     ]
    }
   ],
   "source": [
    "print(df['money-int'].unique)"
   ]
  },
  {
   "cell_type": "code",
   "execution_count": 45,
   "id": "74eef2ab",
   "metadata": {},
   "outputs": [],
   "source": [
    "def hesapla_toplam_dakika(x):\n",
    "    toplam_dk = 0\n",
    "    if 'g' in x:\n",
    "        gün = int(x.split('g')[0].strip())\n",
    "        toplam_dk += gün * 24 * 60\n",
    "        x = x.split('g')[1]\n",
    "    if 'sa' in x:\n",
    "        saat = int(x.split('sa')[0].strip())\n",
    "        toplam_dk += saat * 60\n",
    "        x = x.split('sa')[1]\n",
    "    if 'dk' in x:\n",
    "        dakika = int(x.split('dk')[0].strip())\n",
    "        toplam_dk += dakika\n",
    "    return toplam_dk"
   ]
  },
  {
   "cell_type": "code",
   "execution_count": 46,
   "id": "d19c4fdb",
   "metadata": {},
   "outputs": [],
   "source": [
    "df['zaman'] = df['summary-duration'].apply(hesapla_toplam_dakika)"
   ]
  },
  {
   "cell_type": "code",
   "execution_count": null,
   "id": "38f6138e",
   "metadata": {},
   "outputs": [],
   "source": []
  },
  {
   "cell_type": "code",
   "execution_count": null,
   "id": "ea1c7ce2",
   "metadata": {},
   "outputs": [],
   "source": []
  }
 ],
 "metadata": {
  "kernelspec": {
   "display_name": "Python 3",
   "language": "python",
   "name": "python3"
  },
  "language_info": {
   "codemirror_mode": {
    "name": "ipython",
    "version": 3
   },
   "file_extension": ".py",
   "mimetype": "text/x-python",
   "name": "python",
   "nbconvert_exporter": "python",
   "pygments_lexer": "ipython3",
   "version": "3.12.6"
  }
 },
 "nbformat": 4,
 "nbformat_minor": 5
}
